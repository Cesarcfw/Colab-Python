{
  "nbformat": 4,
  "nbformat_minor": 0,
  "metadata": {
    "colab": {
      "provenance": [],
      "authorship_tag": "ABX9TyPlSnxErZyD+DQqjQzxzbVj",
      "include_colab_link": true
    },
    "kernelspec": {
      "name": "python3",
      "display_name": "Python 3"
    },
    "language_info": {
      "name": "python"
    }
  },
  "cells": [
    {
      "cell_type": "markdown",
      "metadata": {
        "id": "view-in-github",
        "colab_type": "text"
      },
      "source": [
        "<a href=\"https://colab.research.google.com/github/Cesarcfw/Colab-Python/blob/main/cesar_D2_ED1_UDF.ipynb\" target=\"_parent\"><img src=\"https://colab.research.google.com/assets/colab-badge.svg\" alt=\"Open In Colab\"/></a>"
      ]
    },
    {
      "cell_type": "markdown",
      "source": [
        "Aula de listas e operações aritiméticas com Python ⏰"
      ],
      "metadata": {
        "id": "OdcVAgto3tVC"
      }
    },
    {
      "cell_type": "markdown",
      "source": [
        "Lista: Conjunto de elementos abstratos (conjunto de coisas)"
      ],
      "metadata": {
        "id": "hGWxeUdZ4C_J"
      }
    },
    {
      "cell_type": "markdown",
      "source": [
        "Listas:\n",
        "sintaxe: [<coisa>, <coisa>, <coisa>]\n",
        "Pode ser formada por objetos arbitrarios e distintos\n",
        "A ordem importa"
      ],
      "metadata": {
        "id": "B2MrDh3m4UBx"
      }
    },
    {
      "cell_type": "code",
      "source": [
        "#len permite saber o comprimento de uma lista"
      ],
      "metadata": {
        "id": "t_rxBFC76GgK"
      },
      "execution_count": null,
      "outputs": []
    },
    {
      "cell_type": "code",
      "source": [
        "jogo=[\"online\", \"nivel\", 5, \"genero\", 100.00, \"plataforma\", \"desenvolvedor\", \"nome\"]\n",
        "len(jogo)"
      ],
      "metadata": {
        "colab": {
          "base_uri": "https://localhost:8080/"
        },
        "id": "CPtgzppr46-h",
        "outputId": "6519d527-8096-4e42-d59c-5fd4e3173f68"
      },
      "execution_count": null,
      "outputs": [
        {
          "output_type": "execute_result",
          "data": {
            "text/plain": [
              "8"
            ]
          },
          "metadata": {},
          "execution_count": 4
        }
      ]
    },
    {
      "cell_type": "code",
      "source": [
        "jogo1=[\"multiplayer\", \"rankeado\", 2, \"fps\", 0.0, \"pc\", \"riot\", \"valorant\"]\n",
        "jogo2=[\"multiplayer\", \"rankeado\", 0, \"moba\", 0.0, \"pc\", \"riot\", \"league of legends\"]\n",
        "jogo3=[\"singleplayer_multiplayer\", \"sandbox\", 10, \"sandbox\", 80.0, \"pc_console_mobile\", \"Mojang\", \"Minecraft\"]\n",
        "jogo4=[\"multiplayer\", \"reputação\", 1000, \"MMORPG\", 250.0, \"pc\", \"CIG\", \"Star_Citizen\"]\n",
        "jogo1 + jogo2 + jogo3"
      ],
      "metadata": {
        "colab": {
          "base_uri": "https://localhost:8080/"
        },
        "id": "_4kT_qtZ7dWd",
        "outputId": "4dea5dbd-560f-48f5-d3e2-af2f5d2bc69b"
      },
      "execution_count": null,
      "outputs": [
        {
          "output_type": "execute_result",
          "data": {
            "text/plain": [
              "['multiplayer',\n",
              " 'ranqueado',\n",
              " 2,\n",
              " 'fps',\n",
              " 0.0,\n",
              " 'pc',\n",
              " 'riot',\n",
              " 'valorant',\n",
              " 'multiplayer',\n",
              " 'ranqueado',\n",
              " 0,\n",
              " 'moba',\n",
              " 0.0,\n",
              " 'pc',\n",
              " 'riot',\n",
              " 'league of legends',\n",
              " 'singleplayer_multiplayer',\n",
              " 'sandbox',\n",
              " 10,\n",
              " 'sandbox',\n",
              " 80.0,\n",
              " 'pc_console_mobile',\n",
              " 'Mojang',\n",
              " 'Minecraft']"
            ]
          },
          "metadata": {},
          "execution_count": 8
        }
      ]
    },
    {
      "cell_type": "code",
      "source": [
        "print(\"digite o numero\")\n",
        "a=int(input())\n",
        "30*5+a-2"
      ],
      "metadata": {
        "colab": {
          "base_uri": "https://localhost:8080/"
        },
        "id": "QcsMIeVrGInY",
        "outputId": "657225ea-6974-421b-8e75-8fd35273957a"
      },
      "execution_count": null,
      "outputs": [
        {
          "name": "stdout",
          "output_type": "stream",
          "text": [
            "digite o numero\n",
            "2\n"
          ]
        },
        {
          "output_type": "execute_result",
          "data": {
            "text/plain": [
              "150"
            ]
          },
          "metadata": {},
          "execution_count": 25
        }
      ]
    },
    {
      "cell_type": "code",
      "source": [
        "# https://docs.python.org/pt-br/3/tutorial/datastructures.html\n",
        "\n",
        "#list.append(x)\n",
        "#Adiciona um item ao fim da lista. Equivalente a a[len(a):] = [x].\n",
        "\n",
        "#list.extend(iterable)\n",
        "#Prolonga a lista, adicionando no fim todos os elementos do argumento iterable passado como parâmetro. Equivalente a a[len(a):] = iterable.\n",
        "\n",
        "#list.insert(i, x)\n",
        "#Insere um item em uma dada posição. O primeiro argumento é o índice do elemento antes do qual será feita a inserção, assim a.insert(0, x) insere um elemento na frente da lista e a.insert(len(a), x) e equivale a a.append(x).\n",
        "\n",
        "#list.remove(x)\n",
        "#Remove o primeiro item encontrado na lista cujo valor é igual a x. Se não existir valor igual, uma exceção ValueError é levantada.\n",
        "\n",
        "#list.pop([i])\n",
        "#Remove o item na posição fornecida na lista e retorna. Se nenhum índice for especificado, a.pop() remove e retorna o último item da lista. Levanta um IndexError se a lista estiver vazia ou o índice estiver fora do intervalo da lista.\n",
        "\n",
        "#list.clear()\n",
        "#Remove todos os itens de uma lista. Equivalente a del a[:]."
      ],
      "metadata": {
        "id": "9F2dPjs7KxC5"
      },
      "execution_count": null,
      "outputs": []
    },
    {
      "cell_type": "code",
      "source": [
        "#list.append(x)\n",
        "#Adiciona um item ao fim da lista. Equivalente a a[len(a):] = [x].\n",
        "jogo1=[\"multiplayer\", \"rankeado\", 2, \"fps\", 0.0, \"pc\", \"riot\", \"valorant\"]\n",
        "jogo1[len(jogo1):] = [\"zerobala\"]\n",
        "jogo1"
      ],
      "metadata": {
        "colab": {
          "base_uri": "https://localhost:8080/"
        },
        "id": "XFTr38YUMz2b",
        "outputId": "f2bd8e06-55ab-4242-860b-da7e21454d38"
      },
      "execution_count": null,
      "outputs": [
        {
          "output_type": "execute_result",
          "data": {
            "text/plain": [
              "['multiplayer',\n",
              " 'ranqueado',\n",
              " 2,\n",
              " 'fps',\n",
              " 0.0,\n",
              " 'pc',\n",
              " 'riot',\n",
              " 'valorant',\n",
              " 'zerobala']"
            ]
          },
          "metadata": {},
          "execution_count": 29
        }
      ]
    },
    {
      "cell_type": "code",
      "source": [
        "#list.remove(x)\n",
        "#Remove o primeiro item encontrado na lista cujo valor é igual a x. Se não existir valor igual, uma exceção ValueError é levantada.\n",
        "\n",
        "jogo2=[\"multiplayer\", \"rankeado\", 0, \"moba\", 0.0, \"pc\", \"riot\", \"league of legends\"]\n",
        "jogo2.remove(\"riot\")\n",
        "print(jogo2)\n",
        "jogo2[1]"
      ],
      "metadata": {
        "colab": {
          "base_uri": "https://localhost:8080/",
          "height": 53
        },
        "id": "Q1V2Y3m_NjnR",
        "outputId": "96512d3c-ce80-4d45-bbe5-ecacdbe61297"
      },
      "execution_count": null,
      "outputs": [
        {
          "output_type": "stream",
          "name": "stdout",
          "text": [
            "['multiplayer', 'rankeado', 0, 'moba', 0.0, 'pc', 'league of legends']\n"
          ]
        },
        {
          "output_type": "execute_result",
          "data": {
            "text/plain": [
              "'rankeado'"
            ],
            "application/vnd.google.colaboratory.intrinsic+json": {
              "type": "string"
            }
          },
          "metadata": {},
          "execution_count": 39
        }
      ]
    },
    {
      "cell_type": "code",
      "source": [
        "#list.pop([i])\n",
        "#Remove o item na posição fornecida na lista e retorna. Se nenhum índice for especificado, a.pop() remove e retorna o último item da lista. Levanta um IndexError se a lista estiver vazia ou o índice estiver fora do intervalo da lista.\n",
        "jogo3=[\"singleplayer_multiplayer\", \"sandbox\", 10, \"sandbox\", 80.0, \"pc_console_mobile\", \"Mojang\", \"Minecraft\"]\n",
        "jogo3.pop(1)\n",
        "print(jogo3)\n"
      ],
      "metadata": {
        "colab": {
          "base_uri": "https://localhost:8080/"
        },
        "id": "vDFr2LX3PwJA",
        "outputId": "310aa462-f448-4996-9c36-7324068ca799"
      },
      "execution_count": null,
      "outputs": [
        {
          "output_type": "stream",
          "name": "stdout",
          "text": [
            "['singleplayer_multiplayer', 10, 'sandbox', 80.0, 'pc_console_mobile', 'Mojang', 'Minecraft']\n"
          ]
        }
      ]
    },
    {
      "cell_type": "code",
      "source": [
        "#list.clear()\n",
        "#Remove todos os itens de uma lista. Equivalente a del a[:].\n",
        "jogo2=[\"multiplayer\", \"rankeado\", 0, \"moba\", 0.0, \"pc\", \"riot\", \"league of legends\"]\n",
        "jogo2.clear()\n",
        "print(jogo2)"
      ],
      "metadata": {
        "colab": {
          "base_uri": "https://localhost:8080/"
        },
        "id": "v4HH9n9hRBdM",
        "outputId": "47c166e9-604b-4c30-e744-b0808a0b3a13"
      },
      "execution_count": null,
      "outputs": [
        {
          "output_type": "stream",
          "name": "stdout",
          "text": [
            "[]\n"
          ]
        }
      ]
    },
    {
      "cell_type": "code",
      "source": [
        "#Lista em pilha (LIFO):\n",
        "#X.append() para adicionar\n",
        "#X.pop() para remover algum item\n",
        "jogodev=[\"Nome\"]\n",
        "jogodev.append(\"motor_grafico\")\n",
        "jogodev.append(\"texturas\")\n",
        "jogodev.append(\"categoria\")\n",
        "jogodev.append(\"dificuldade\")\n",
        "jogodev.append(\"historia\")\n",
        "print(jogodev)\n",
        "jogodev.pop()\n",
        "print(jogodev)\n",
        "jogodev.pop(2)\n",
        "print(jogodev)"
      ],
      "metadata": {
        "colab": {
          "base_uri": "https://localhost:8080/"
        },
        "id": "lWUd3JkM-iEH",
        "outputId": "867184d6-ec22-4687-c5db-2fbc0c2e96d2"
      },
      "execution_count": null,
      "outputs": [
        {
          "output_type": "stream",
          "name": "stdout",
          "text": [
            "['Nome', 'motor_grafico', 'texturas', 'categoria', 'dificuldade', 'historia']\n",
            "['Nome', 'motor_grafico', 'texturas', 'categoria', 'dificuldade']\n",
            "['Nome', 'motor_grafico', 'categoria', 'dificuldade']\n"
          ]
        }
      ]
    },
    {
      "cell_type": "code",
      "source": [
        "#lista em Fila (FIFO):\n",
        "from collections import deque\n",
        "queue = deque([\"Eric\", \"John\", \"Michael\"])\n",
        "queue.append(\"Terry\")\n",
        "queue.append(\"Graham\")\n",
        "queue.popleft()\n",
        "'Eric'\n",
        "queue.popleft()\n",
        "'John'\n",
        "queue\n",
        "deque(['Michael', 'Terry', 'Graham'])"
      ],
      "metadata": {
        "colab": {
          "base_uri": "https://localhost:8080/"
        },
        "id": "eL4jcO2bR2h2",
        "outputId": "5b6cddb6-91d0-4c9b-fff3-71667baa41ff"
      },
      "execution_count": null,
      "outputs": [
        {
          "output_type": "execute_result",
          "data": {
            "text/plain": [
              "deque(['Michael', 'Terry', 'Graham'])"
            ]
          },
          "metadata": {},
          "execution_count": 1
        }
      ]
    },
    {
      "cell_type": "markdown",
      "source": [
        "Atividade avaliativa Listas - 1,0 ponto A2"
      ],
      "metadata": {
        "id": "jF04ofIhBzvT"
      }
    },
    {
      "cell_type": "code",
      "source": [
        "# 1) Estrutura de Dados\n",
        "# O que é um dado?\n",
        "# R: Dado é uma informação usada por uma variavel em uma algoritimo para se resolver um problema"
      ],
      "metadata": {
        "id": "Fuk8kB1W3hrb"
      },
      "execution_count": null,
      "outputs": []
    },
    {
      "cell_type": "code",
      "source": [
        "# 2) Qual a importância de um algoritimo na area de tecnologia?\n",
        "# R: A importancia de um algoritimo se da por ele ser o conjunto de dados e instruções que levam a resolver um problema de maquina"
      ],
      "metadata": {
        "id": "nfeqYhlj3uyJ"
      },
      "execution_count": null,
      "outputs": []
    },
    {
      "cell_type": "code",
      "source": [
        "# 3) Quais são as partes que define um algoritimo?\n",
        "# R: entradas de Dados, processamento e saida de dados."
      ],
      "metadata": {
        "id": "Qlbdv5684Fho"
      },
      "execution_count": null,
      "outputs": []
    },
    {
      "cell_type": "code",
      "source": [
        "# 4) Construa um algoritimo que receba uma lista com \"cinemas\", solicite a um usuario que informe 3 tipos de filmes da área de Ti\n",
        "#    e apresente quais foram os filmes\n",
        "\n",
        "print(\"Digite um filme da área de TI\")\n",
        "jogador_numero_1 = input()\n",
        "print(\"Digite outro filme da área de TI\")\n",
        "jobs = input()\n",
        "print(\"Digite o ultimo filme da área de TI\")\n",
        "ela = input()\n",
        "\n",
        "cinemas=[jogador_numero_1, jobs, ela]\n",
        "type(cinemas)\n",
        "print(\"Os filmes inseridos são:\", cinemas)\n",
        "len(cinemas)"
      ],
      "metadata": {
        "colab": {
          "base_uri": "https://localhost:8080/"
        },
        "id": "c4_NW04y4LeF",
        "outputId": "fbdb0350-1452-43b6-aeb7-0d98bd8666f0"
      },
      "execution_count": null,
      "outputs": [
        {
          "output_type": "stream",
          "name": "stdout",
          "text": [
            "Digite um filme da área de TI\n",
            "jogador numero 1\n",
            "Digite outro filme da área de TI\n",
            "jobs\n",
            "Digite o ultimo filme da área de TI\n",
            "ela\n",
            "Os filmes inseridos são: ['jogador numero 1', 'jobs', 'ela']\n"
          ]
        },
        {
          "output_type": "execute_result",
          "data": {
            "text/plain": [
              "3"
            ]
          },
          "metadata": {},
          "execution_count": 33
        }
      ]
    },
    {
      "cell_type": "code",
      "source": [
        "# 5) Crie uma lista chamada animais, insira um novo animal com metodo append\n",
        "animais=[\"cachorro\", \"baleia\", \"morcego\"]\n",
        "animais.append(\"porco\")\n",
        "print(animais)\n",
        "len(animais)"
      ],
      "metadata": {
        "colab": {
          "base_uri": "https://localhost:8080/"
        },
        "id": "hYObnhfp4p2a",
        "outputId": "0c1cbf6c-1cba-401b-89d0-3f1ce168a074"
      },
      "execution_count": null,
      "outputs": [
        {
          "output_type": "stream",
          "name": "stdout",
          "text": [
            "['cachorro', 'baleia', 'morcego', 'porco']\n"
          ]
        },
        {
          "output_type": "execute_result",
          "data": {
            "text/plain": [
              "4"
            ]
          },
          "metadata": {},
          "execution_count": 34
        }
      ]
    },
    {
      "cell_type": "code",
      "source": [
        "# 6) Troque a posição dos elementos no índice [0] para [1]\n",
        "cinemas.insert(0, 1)\n",
        "print(cinemas)"
      ],
      "metadata": {
        "colab": {
          "base_uri": "https://localhost:8080/"
        },
        "id": "eV6I8osv4wQt",
        "outputId": "49073435-aa34-4e98-fede-e05fc5b6ea61"
      },
      "execution_count": null,
      "outputs": [
        {
          "output_type": "stream",
          "name": "stdout",
          "text": [
            "[1, 'jogador numero 1', 'jobs', 'ela']\n"
          ]
        }
      ]
    },
    {
      "cell_type": "code",
      "source": [
        "# 7) Apague o primeiro dado da lista\n",
        "animais.remove(\"cachorro\")\n",
        "print(animais)"
      ],
      "metadata": {
        "colab": {
          "base_uri": "https://localhost:8080/"
        },
        "id": "eEC-MfkH45Si",
        "outputId": "566d9e66-e204-415a-c557-0374397e0dc0"
      },
      "execution_count": null,
      "outputs": [
        {
          "output_type": "stream",
          "name": "stdout",
          "text": [
            "['baleia', 'morcego', 'porco']\n"
          ]
        }
      ]
    },
    {
      "cell_type": "code",
      "source": [
        "# 8) Informe o maior valor da lista\n",
        "max(animais)"
      ],
      "metadata": {
        "colab": {
          "base_uri": "https://localhost:8080/",
          "height": 35
        },
        "id": "gYAgRLjL5AHa",
        "outputId": "f356841c-8136-406f-d2b5-84aeebac1047"
      },
      "execution_count": null,
      "outputs": [
        {
          "output_type": "execute_result",
          "data": {
            "text/plain": [
              "'porco'"
            ],
            "application/vnd.google.colaboratory.intrinsic+json": {
              "type": "string"
            }
          },
          "metadata": {},
          "execution_count": 40
        }
      ]
    },
    {
      "cell_type": "code",
      "source": [
        "# 9) Informe o menor valor da lista\n",
        "min(animais)"
      ],
      "metadata": {
        "colab": {
          "base_uri": "https://localhost:8080/",
          "height": 35
        },
        "id": "PGbMvHAu5D7O",
        "outputId": "65d1a75e-8099-41e9-8451-04254f7e9c67"
      },
      "execution_count": null,
      "outputs": [
        {
          "output_type": "execute_result",
          "data": {
            "text/plain": [
              "'baleia'"
            ],
            "application/vnd.google.colaboratory.intrinsic+json": {
              "type": "string"
            }
          },
          "metadata": {},
          "execution_count": 41
        }
      ]
    },
    {
      "cell_type": "code",
      "source": [
        "# 10) Apague o conteúdo da lista!\n",
        "animais.clear()\n",
        "cinemas.clear()"
      ],
      "metadata": {
        "id": "CZmEf0gk5I8I"
      },
      "execution_count": null,
      "outputs": []
    }
  ]
}