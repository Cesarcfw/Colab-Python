{
  "nbformat": 4,
  "nbformat_minor": 0,
  "metadata": {
    "colab": {
      "provenance": [],
      "authorship_tag": "ABX9TyOc3TkR+LHGkegjvPMXTUIE",
      "include_colab_link": true
    },
    "kernelspec": {
      "name": "python3",
      "display_name": "Python 3"
    },
    "language_info": {
      "name": "python"
    }
  },
  "cells": [
    {
      "cell_type": "markdown",
      "metadata": {
        "id": "view-in-github",
        "colab_type": "text"
      },
      "source": [
        "<a href=\"https://colab.research.google.com/github/Cesarcfw/Colab-Python/blob/main/Prova/avalia%C3%A7%C3%A3o_C%C3%A9sar_D2_ED1_UDF.ipynb\" target=\"_parent\"><img src=\"https://colab.research.google.com/assets/colab-badge.svg\" alt=\"Open In Colab\"/></a>"
      ]
    },
    {
      "cell_type": "markdown",
      "source": [
        "Atividade avaliativa Listas - 1,0 ponto A2"
      ],
      "metadata": {
        "id": "jF04ofIhBzvT"
      }
    },
    {
      "cell_type": "code",
      "source": [
        "# 1) Estrutura de Dados\n",
        "# O que é um dado?\n",
        "print(\"Dado é uma informação usada por uma variavel em uma algoritimo para se resolver um problema\")"
      ],
      "metadata": {
        "id": "Fuk8kB1W3hrb"
      },
      "execution_count": null,
      "outputs": []
    },
    {
      "cell_type": "code",
      "source": [
        "# 2) Qual a importância de um algoritimo na area de tecnologia?\n",
        "print(\"algoritimo representa os precedimentos para o desenvolvimento de um programa\")"
      ],
      "metadata": {
        "id": "nfeqYhlj3uyJ"
      },
      "execution_count": null,
      "outputs": []
    },
    {
      "cell_type": "code",
      "source": [
        "# 3) Quais são as partes que define um algoritimo?\n",
        "print(\"entradas de Dados, processamento e saida de dados.\")"
      ],
      "metadata": {
        "id": "Qlbdv5684Fho"
      },
      "execution_count": null,
      "outputs": []
    },
    {
      "cell_type": "code",
      "source": [
        "# 4) Construa um algoritimo que receba uma lista com \"cinemas\", solicite a um usuario que informe 3 tipos de filmes da área de Ti\n",
        "#    e apresente quais foram os filmes\n",
        "\n",
        "jogador_numero_1 = input(\"Digite um filme de TI \")\n",
        "jobs = input(\"Digite um filme de TI \")\n",
        "ela = input(\"Digite um filme de TI \")\n",
        "\n",
        "cinemas=[jogador_numero_1, jobs, ela]\n",
        "print(\"Os filmes inseridos são:\", cinemas)\n",
        "len(cinemas)\n",
        "type(cinemas)"
      ],
      "metadata": {
        "colab": {
          "base_uri": "https://localhost:8080/"
        },
        "id": "c4_NW04y4LeF",
        "outputId": "1b004720-39d6-4a5e-8fe7-73e9f6e5b2d9"
      },
      "execution_count": null,
      "outputs": [
        {
          "output_type": "stream",
          "name": "stdout",
          "text": [
            "Digite um filme de TIJogador numero 1\n",
            "Digite um filme de TIjobs\n",
            "Digite um filme de TIEla\n",
            "Os filmes inseridos são: ['Jogador numero 1', 'jobs', 'Ela']\n"
          ]
        },
        {
          "output_type": "execute_result",
          "data": {
            "text/plain": [
              "3"
            ]
          },
          "metadata": {},
          "execution_count": 21
        }
      ]
    },
    {
      "cell_type": "code",
      "source": [
        "# 5) Crie uma lista chamada animais, insira um novo animal com metodo append\n",
        "animais=[\"cachorro\", \"baleia\", \"morcego\"]\n",
        "animais.append(\"porco\")\n",
        "print(animais)\n",
        "len(animais)"
      ],
      "metadata": {
        "colab": {
          "base_uri": "https://localhost:8080/"
        },
        "id": "hYObnhfp4p2a",
        "outputId": "cc359380-58c7-4614-aba3-a7b0212fbd86"
      },
      "execution_count": null,
      "outputs": [
        {
          "output_type": "stream",
          "name": "stdout",
          "text": [
            "['cachorro', 'baleia', 'morcego', 'porco']\n"
          ]
        },
        {
          "output_type": "execute_result",
          "data": {
            "text/plain": [
              "4"
            ]
          },
          "metadata": {},
          "execution_count": 22
        }
      ]
    },
    {
      "cell_type": "code",
      "source": [
        "# 6) Troque a posição dos elementos no índice [0] para [1]\n",
        "animais=[\"cachorro\", \"baleia\", \"morcego\"]\n",
        "animais.pop(0)\n",
        "animais.insert(1, \"cachorro\")\n",
        "print(animais)"
      ],
      "metadata": {
        "colab": {
          "base_uri": "https://localhost:8080/"
        },
        "id": "eV6I8osv4wQt",
        "outputId": "089412b8-0c03-491f-cdc9-6092120b2cc4"
      },
      "execution_count": null,
      "outputs": [
        {
          "output_type": "stream",
          "name": "stdout",
          "text": [
            "['baleia', 'cachorro', 'morcego']\n"
          ]
        }
      ]
    },
    {
      "cell_type": "code",
      "source": [
        "# 7) Apague o primeiro dado da lista\n",
        "animais.remove(\"cachorro\")\n",
        "print(animais)"
      ],
      "metadata": {
        "colab": {
          "base_uri": "https://localhost:8080/"
        },
        "id": "eEC-MfkH45Si",
        "outputId": "94184d8e-6c83-41ce-cc93-234a9bdbfe39"
      },
      "execution_count": null,
      "outputs": [
        {
          "output_type": "stream",
          "name": "stdout",
          "text": [
            "['baleia', 'morcego', 'porco']\n"
          ]
        }
      ]
    },
    {
      "cell_type": "code",
      "source": [
        "# 8) Informe o maior valor da lista\n",
        "max(animais)"
      ],
      "metadata": {
        "colab": {
          "base_uri": "https://localhost:8080/",
          "height": 35
        },
        "id": "gYAgRLjL5AHa",
        "outputId": "5037e7c8-e661-4057-fcd6-956ae900d2b8"
      },
      "execution_count": null,
      "outputs": [
        {
          "output_type": "execute_result",
          "data": {
            "text/plain": [
              "'porco'"
            ],
            "application/vnd.google.colaboratory.intrinsic+json": {
              "type": "string"
            }
          },
          "metadata": {},
          "execution_count": 25
        }
      ]
    },
    {
      "cell_type": "code",
      "source": [
        "# 9) Informe o menor valor da lista\n",
        "min(animais)"
      ],
      "metadata": {
        "colab": {
          "base_uri": "https://localhost:8080/",
          "height": 35
        },
        "id": "PGbMvHAu5D7O",
        "outputId": "e37bbc9c-4956-4b35-fb79-629ab98a9c69"
      },
      "execution_count": null,
      "outputs": [
        {
          "output_type": "execute_result",
          "data": {
            "text/plain": [
              "'baleia'"
            ],
            "application/vnd.google.colaboratory.intrinsic+json": {
              "type": "string"
            }
          },
          "metadata": {},
          "execution_count": 26
        }
      ]
    },
    {
      "cell_type": "code",
      "source": [
        "# 10) Apague o conteúdo da lista!\n",
        "animais.clear()\n",
        "cinemas.clear()"
      ],
      "metadata": {
        "id": "CZmEf0gk5I8I"
      },
      "execution_count": null,
      "outputs": []
    }
  ]
}