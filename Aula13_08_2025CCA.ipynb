{
  "nbformat": 4,
  "nbformat_minor": 0,
  "metadata": {
    "colab": {
      "provenance": [],
      "authorship_tag": "ABX9TyMpnwvno3Xgv4ane7/jhXfp",
      "include_colab_link": true
    },
    "kernelspec": {
      "name": "python3",
      "display_name": "Python 3"
    },
    "language_info": {
      "name": "python"
    }
  },
  "cells": [
    {
      "cell_type": "markdown",
      "metadata": {
        "id": "view-in-github",
        "colab_type": "text"
      },
      "source": [
        "<a href=\"https://colab.research.google.com/github/Cesarcfw/Colab-Python/blob/main/Aula13_08_2025CCA.ipynb\" target=\"_parent\"><img src=\"https://colab.research.google.com/assets/colab-badge.svg\" alt=\"Open In Colab\"/></a>"
      ]
    },
    {
      "cell_type": "markdown",
      "source": [
        "## Soma triangular"
      ],
      "metadata": {
        "id": "jguKWCTwah80"
      }
    },
    {
      "cell_type": "code",
      "execution_count": 28,
      "metadata": {
        "colab": {
          "base_uri": "https://localhost:8080/"
        },
        "id": "Nne75bJLWpcD",
        "outputId": "e2780814-46b8-4442-cb61-c9fa2dddfc30"
      },
      "outputs": [
        {
          "output_type": "stream",
          "name": "stdout",
          "text": [
            "5000000050000000\n"
          ]
        }
      ],
      "source": [
        "import os\n",
        "os.system('cls' if os.name == 'nt' else 'clear')\n",
        "n = 100000000\n",
        "def somatorio(n):\n",
        "  soma = 0\n",
        "  for i in range(1, n+1):\n",
        "    soma += i\n",
        "  return soma\n",
        "\n",
        "print(somatorio(n))"
      ]
    },
    {
      "cell_type": "markdown",
      "source": [
        "## Loop duplo \"triangular\""
      ],
      "metadata": {
        "id": "a1U-gLTYcJzE"
      }
    },
    {
      "cell_type": "code",
      "source": [
        "import os\n",
        "os.system('cls' if os.name == 'nt' else 'clear')\n",
        "n = 5\n",
        "for i in range(1, n+1):\n",
        "    for j in range(1, n+1):\n",
        "        print(i, j)"
      ],
      "metadata": {
        "colab": {
          "base_uri": "https://localhost:8080/",
          "height": 0
        },
        "id": "a1dl4_qQcJMd",
        "outputId": "d2f09a33-e898-4f1d-d2b8-947ee98d68be"
      },
      "execution_count": 15,
      "outputs": [
        {
          "output_type": "stream",
          "name": "stdout",
          "text": [
            "1 1\n",
            "1 2\n",
            "1 3\n",
            "1 4\n",
            "1 5\n",
            "2 1\n",
            "2 2\n",
            "2 3\n",
            "2 4\n",
            "2 5\n",
            "3 1\n",
            "3 2\n",
            "3 3\n",
            "3 4\n",
            "3 5\n",
            "4 1\n",
            "4 2\n",
            "4 3\n",
            "4 4\n",
            "4 5\n",
            "5 1\n",
            "5 2\n",
            "5 3\n",
            "5 4\n",
            "5 5\n"
          ]
        }
      ]
    },
    {
      "cell_type": "markdown",
      "source": [
        "## Medindo tempo de execução"
      ],
      "metadata": {
        "id": "hBQiRJK2dsNZ"
      }
    },
    {
      "cell_type": "code",
      "source": [
        "import os, time\n",
        "os.system('cls' if os.name == 'nt' else 'clear')\n",
        "n = 5\n",
        "inicio = time.time()\n",
        "soma = 0\n",
        "for i in range(n):\n",
        "    soma += i\n",
        "fim = time.time()\n",
        "print(f\"Tempo de execução: {fim - inicio:.6f}s\")\n",
        "print(f\"Soma total = {soma}\")"
      ],
      "metadata": {
        "colab": {
          "base_uri": "https://localhost:8080/"
        },
        "id": "rVK9LLj-dr6S",
        "outputId": "e7eeff0f-e3a1-455d-badc-ec9e5af334d6"
      },
      "execution_count": 30,
      "outputs": [
        {
          "output_type": "stream",
          "name": "stdout",
          "text": [
            "Tempo de execução: 0.000212s\n",
            "Soma total = 10\n"
          ]
        }
      ]
    },
    {
      "cell_type": "markdown",
      "source": [
        "## Desafio"
      ],
      "metadata": {
        "id": "JdePiD2kgQ7s"
      }
    },
    {
      "cell_type": "code",
      "source": [
        "import os, time\n",
        "os.system('cls' if os.name == 'nt' else 'clear')\n",
        "n = 5\n",
        "inicio = time.time()\n",
        "soma = 0\n",
        "for i in range(1, n+1):\n",
        "    for j in range(1, i+1):\n",
        "        soma += 1\n",
        "fim = time.time()\n",
        "print(f\"Tempo de execução: {fim - inicio:.6f}s\")\n",
        "print(f\"Soma total = {soma}\")\n"
      ],
      "metadata": {
        "colab": {
          "base_uri": "https://localhost:8080/"
        },
        "id": "HDPXVdQXgTor",
        "outputId": "3cc97f36-ee4a-41f2-b874-49c94174e2e0"
      },
      "execution_count": 31,
      "outputs": [
        {
          "output_type": "stream",
          "name": "stdout",
          "text": [
            "Tempo de execução: 0.000201s\n",
            "Soma total = 15\n"
          ]
        }
      ]
    },
    {
      "cell_type": "markdown",
      "source": [
        "* fazer relatorio com\n",
        "* loop simples, loop duplo e loop de redução não linear\n",
        "* nome de todos\n",
        "* RGMs\n",
        "* codigo\n",
        "* comparação de tempo em 2 maquinas\n",
        "* 20 testes de tempos distintos n=2^20\n",
        "* analise a cada N por Tempo de forma critica com um grafico em linha\n",
        "    exemplo:\n",
        "        n = 100 T=0.001856s"
      ],
      "metadata": {
        "id": "kC7ClAUNlc2q"
      }
    }
  ]
}